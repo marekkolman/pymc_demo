{
 "cells": [
  {
   "cell_type": "markdown",
   "metadata": {},
   "source": [
    "# Load input data for the two time series $S_1(t), S_2(t)$"
   ]
  },
  {
   "cell_type": "code",
   "execution_count": 1,
   "metadata": {},
   "outputs": [],
   "source": [
    "import pandas as pd\n",
    "import numpy as np\n",
    "import pymc3 as pm"
   ]
  },
  {
   "cell_type": "code",
   "execution_count": 2,
   "metadata": {},
   "outputs": [],
   "source": [
    "raw_data = pd.read_csv(r'data/input_data.csv')\n",
    "raw_data['Date'] = pd.to_datetime(raw_data['Date'])\n",
    "raw_data = raw_data.set_index('Date')"
   ]
  },
  {
   "cell_type": "markdown",
   "metadata": {},
   "source": [
    "Compute $dS_1(t), dS_2(t)$ and join these to the original data"
   ]
  },
  {
   "cell_type": "code",
   "execution_count": 3,
   "metadata": {},
   "outputs": [
    {
     "data": {
      "text/html": [
       "<div>\n",
       "<style scoped>\n",
       "    .dataframe tbody tr th:only-of-type {\n",
       "        vertical-align: middle;\n",
       "    }\n",
       "\n",
       "    .dataframe tbody tr th {\n",
       "        vertical-align: top;\n",
       "    }\n",
       "\n",
       "    .dataframe thead th {\n",
       "        text-align: right;\n",
       "    }\n",
       "</style>\n",
       "<table border=\"1\" class=\"dataframe\">\n",
       "  <thead>\n",
       "    <tr style=\"text-align: right;\">\n",
       "      <th></th>\n",
       "      <th>seriesA</th>\n",
       "      <th>seriesB</th>\n",
       "      <th>dS_seriesA</th>\n",
       "      <th>dS_seriesB</th>\n",
       "    </tr>\n",
       "    <tr>\n",
       "      <th>Date</th>\n",
       "      <th></th>\n",
       "      <th></th>\n",
       "      <th></th>\n",
       "      <th></th>\n",
       "    </tr>\n",
       "  </thead>\n",
       "  <tbody>\n",
       "    <tr>\n",
       "      <td>2010-01-04</td>\n",
       "      <td>2308.419922</td>\n",
       "      <td>1132.989990</td>\n",
       "      <td>0.290039</td>\n",
       "      <td>3.530029</td>\n",
       "    </tr>\n",
       "    <tr>\n",
       "      <td>2010-01-05</td>\n",
       "      <td>2308.709961</td>\n",
       "      <td>1136.520020</td>\n",
       "      <td>-7.619873</td>\n",
       "      <td>0.619995</td>\n",
       "    </tr>\n",
       "    <tr>\n",
       "      <td>2010-01-06</td>\n",
       "      <td>2301.090088</td>\n",
       "      <td>1137.140015</td>\n",
       "      <td>-1.040039</td>\n",
       "      <td>4.549927</td>\n",
       "    </tr>\n",
       "    <tr>\n",
       "      <td>2010-01-07</td>\n",
       "      <td>2300.050049</td>\n",
       "      <td>1141.689941</td>\n",
       "      <td>17.119873</td>\n",
       "      <td>3.290039</td>\n",
       "    </tr>\n",
       "    <tr>\n",
       "      <td>2010-01-08</td>\n",
       "      <td>2317.169922</td>\n",
       "      <td>1144.979980</td>\n",
       "      <td>-4.760010</td>\n",
       "      <td>2.000000</td>\n",
       "    </tr>\n",
       "  </tbody>\n",
       "</table>\n",
       "</div>"
      ],
      "text/plain": [
       "                seriesA      seriesB  dS_seriesA  dS_seriesB\n",
       "Date                                                        \n",
       "2010-01-04  2308.419922  1132.989990    0.290039    3.530029\n",
       "2010-01-05  2308.709961  1136.520020   -7.619873    0.619995\n",
       "2010-01-06  2301.090088  1137.140015   -1.040039    4.549927\n",
       "2010-01-07  2300.050049  1141.689941   17.119873    3.290039\n",
       "2010-01-08  2317.169922  1144.979980   -4.760010    2.000000"
      ]
     },
     "execution_count": 3,
     "metadata": {},
     "output_type": "execute_result"
    }
   ],
   "source": [
    "dS_data = raw_data.diff().shift(-1).rename(columns = {'seriesA':'dS_seriesA', 'seriesB':'dS_seriesB'})\n",
    "data = pd.concat([raw_data, dS_data], axis = 1).dropna()\n",
    "data.head()"
   ]
  },
  {
   "cell_type": "markdown",
   "metadata": {},
   "source": [
    "# Estimation of $(\\mu_1, \\sigma_1)$\n",
    "Since business days observations are used, we assume $dt=1/252$"
   ]
  },
  {
   "cell_type": "code",
   "execution_count": 4,
   "metadata": {},
   "outputs": [
    {
     "name": "stderr",
     "output_type": "stream",
     "text": [
      "Auto-assigning NUTS sampler...\n",
      "Initializing NUTS using jitter+adapt_diag...\n",
      "Multiprocess sampling (2 chains in 2 jobs)\n",
      "NUTS: [sigma_param, mu_param]\n",
      "Sampling 2 chains: 100%|██████████████████████████████████████████████████| 101000/101000 [01:34<00:00, 1072.34draws/s]\n"
     ]
    },
    {
     "data": {
      "text/plain": [
       "<matplotlib.axes._subplots.AxesSubplot at 0x21393150448>"
      ]
     },
     "execution_count": 4,
     "metadata": {},
     "output_type": "execute_result"
    },
    {
     "data": {
      "image/png": "[encoded data removed]",
      "text/plain": [
       "<Figure size 432x288 with 1 Axes>"
      ]
     },
     "metadata": {
      "needs_background": "light"
     },
     "output_type": "display_data"
    }
   ],
   "source": [
    "dt = 1/252\n",
    "with pm.Model() as model:\n",
    "    mu_param = pm.Uniform('mu_param', -0.5, 0.5)\n",
    "    sigma_param = pm.Uniform('sigma_param', 0.0001, 0.3)\n",
    "    \n",
    "    dS = pm.Normal('dS', mu = (data['seriesA'].values*mu_param)*dt, sigma =  data['seriesA'].values*sigma_param*np.sqrt(dt), \n",
    "                  observed = data['dS_seriesA'].values)\n",
    "    trace = pm.sample(50000)\n",
    "\n",
    "pd.Series(trace['mu_param']).hist(bins = 30, label = 'estimated $\\mu_1$')\n",
    "pd.Series(trace['sigma_param']).hist(bins = 30, label = 'estimated $\\sigma_1$')"
   ]
  },
  {
   "cell_type": "markdown",
   "metadata": {},
   "source": [
    "# Estimation of $(\\mu_2, \\sigma_2)$\n",
    "Since business days observations are used, we assume $dt=1/252$"
   ]
  },
  {
   "cell_type": "code",
   "execution_count": 5,
   "metadata": {},
   "outputs": [
    {
     "name": "stderr",
     "output_type": "stream",
     "text": [
      "Auto-assigning NUTS sampler...\n",
      "Initializing NUTS using jitter+adapt_diag...\n",
      "Multiprocess sampling (2 chains in 2 jobs)\n",
      "NUTS: [sigma_param, mu_param]\n",
      "Sampling 2 chains: 100%|██████████████████████████████████████████████████| 101000/101000 [01:34<00:00, 1069.55draws/s]\n"
     ]
    },
    {
     "data": {
      "text/plain": [
       "<matplotlib.axes._subplots.AxesSubplot at 0x213943cb548>"
      ]
     },
     "execution_count": 5,
     "metadata": {},
     "output_type": "execute_result"
    },
    {
     "data": {
      "image/png": "[encoded data removed]",
      "text/plain": [
       "<Figure size 432x288 with 1 Axes>"
      ]
     },
     "metadata": {
      "needs_background": "light"
     },
     "output_type": "display_data"
    }
   ],
   "source": [
    "dt = 1/252\n",
    "with pm.Model() as model:\n",
    "    mu_param = pm.Uniform('mu_param', -0.5, 0.5)\n",
    "    sigma_param = pm.Uniform('sigma_param', 0.0001, 0.3)\n",
    "    \n",
    "    dS = pm.Normal('dS', mu = (data['seriesB'].values*mu_param)*dt, sigma =  data['seriesB'].values*sigma_param*np.sqrt(dt), \n",
    "                  observed = data['dS_seriesB'].values)\n",
    "    trace = pm.sample(50000)\n",
    "\n",
    "pd.Series(trace['mu_param']).hist(bins = 30, label = 'estimated $\\mu_2$')\n",
    "pd.Series(trace['sigma_param']).hist(bins = 30, label = 'estimated $\\sigma_2$')"
   ]
  }
 ],
 "metadata": {
  "kernelspec": {
   "display_name": "Python 3",
   "language": "python",
   "name": "python3"
  },
  "language_info": {
   "codemirror_mode": {
    "name": "ipython",
    "version": 3
   },
   "file_extension": ".py",
   "mimetype": "text/x-python",
   "name": "python",
   "nbconvert_exporter": "python",
   "pygments_lexer": "ipython3",
   "version": "3.7.4"
  }
 },
 "nbformat": 4,
 "nbformat_minor": 2
}
